import requests

# Some wrapper code to send requests to our crew
def ask_question(question: str, url: str):
    data = {'prompt': question}
    headers = {'Content-Type': 'application/json'}
    response = requests.post(url, json=data, headers=headers)

    return response.json()

# note that the port needs to be set to 8000
REMOTE_HOST = ''

res = ask_question("Are boys or girls most lagging behind in reading abilities?", REMOTE_HOST)
# The answer is Boy	485.314033, Girl 503.978509, nan	259.510264, Omitted or invalid	309.707222, <Other>	528.770392
print(res['result'])
print(res['time'])
print(res['cost'])
print(res['tokens'])
